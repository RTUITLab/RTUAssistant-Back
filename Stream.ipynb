{
 "cells": [
  {
   "cell_type": "code",
   "execution_count": 2,
   "metadata": {},
   "outputs": [],
   "source": [
    "import sounddevice as sd\n",
    "import numpy as np\n",
    "import tensorflow as tf\n",
    "import time\n",
    "import os\n",
    "import scipy as sp"
   ]
  },
  {
   "cell_type": "code",
   "execution_count": 3,
   "metadata": {},
   "outputs": [],
   "source": [
    "names = {\n",
    "    0 : 'Джарвис',\n",
    "    1 : 'Дио',\n",
    "    2 : 'Итан',\n",
    "    3 : 'Лада',\n",
    "    4 : 'Мира',\n",
    "    5 : 'Привет'\n",
    "}\n",
    "\n",
    "sd.default.samplerate = 44100\n",
    "sd.default.channels = 1\n",
    "\n",
    "rec_duration = 0.1\n",
    "start_duration = 0.5\n",
    "\n",
    "model = tf.keras.models.load_model('AudRec_L2_v1-2(69-60).h5')"
   ]
  },
  {
   "cell_type": "code",
   "execution_count": 69,
   "metadata": {},
   "outputs": [],
   "source": [
    "def func(_x, _sr=44100):\n",
    "    _x = np.reshape(_x, len(_x))\n",
    "    coeff = sp.signal.firwin(999, [260, 700], fs=_sr, pass_zero=False)\n",
    "    x_filtered = sp.signal.lfilter(coeff, 1.0, _x)\n",
    "    x_normalized = x_filtered/x_filtered.max()\n",
    "    x_squared = np.square(x_normalized)\n",
    "    splited = np.array_split(x_squared, 20)\n",
    "    e_parts = np.empty((0))\n",
    "    for part in splited:\n",
    "        e_parts = np.append(e_parts, sp.integrate.simps(part))\n",
    "    return tf.keras.utils.normalize(e_parts)"
   ]
  },
  {
   "cell_type": "code",
   "execution_count": 70,
   "metadata": {},
   "outputs": [
    {
     "output_type": "stream",
     "name": "stdout",
     "text": "Model: \"sequential_7\"\n_________________________________________________________________\nLayer (type)                 Output Shape              Param #   \n=================================================================\ndense_14 (Dense)             (None, 8)                 168       \n_________________________________________________________________\ndense_15 (Dense)             (None, 6)                 54        \n=================================================================\nTotal params: 222\nTrainable params: 222\nNon-trainable params: 0\n_________________________________________________________________\n"
    }
   ],
   "source": [
    "model.summary()"
   ]
  },
  {
   "cell_type": "code",
   "execution_count": 64,
   "metadata": {},
   "outputs": [],
   "source": [
    "data = sd.rec(int((start_duration + 0.1) * sd.default.samplerate * 2), blocking=True)"
   ]
  },
  {
   "cell_type": "code",
   "execution_count": 71,
   "metadata": {},
   "outputs": [
    {
     "output_type": "stream",
     "name": "stdout",
     "text": "Джарвис\nДжарвис\nПривет\nИтан\nИтан\nИтан\nИтан\nИтан\nИтан\nДио\nИтан\nДио\nДжарвис\nЛада\nИтан\nИтан\nИтан\nПривет\nЛада\nПривет\nПривет\nИтан\nИтан\nИтан\nИтан\nИтан\nИтан\nИтан\nИтан\nИтан\nИтан\nПривет\nПривет\nПривет\nПривет\nПривет\nПривет\nПривет\nПривет\nПривет\nПривет\nПривет\nПривет\nПривет\nПривет\nИтан\nИтан\nИтан\nИтан\n"
    }
   ],
   "source": [
    "def callback(indata, outdata, frames, time, status):\n",
    "    global data, model\n",
    "    print(names[model.predict_classes(func(data))[0]])\n",
    "    data = data[frames:]\n",
    "    data = np.append(data, indata, axis=0)\n",
    "\n",
    "block = int(sd.default.samplerate * rec_duration)\n",
    "with sd.Stream(blocksize=block, callback=callback):\n",
    "    sd.sleep(int(1000 * 5))"
   ]
  },
  {
   "cell_type": "code",
   "execution_count": 65,
   "metadata": {},
   "outputs": [],
   "source": [
    "sd.play(data)"
   ]
  },
  {
   "cell_type": "code",
   "execution_count": 66,
   "metadata": {},
   "outputs": [
    {
     "output_type": "stream",
     "name": "stdout",
     "text": "Джарвис\n"
    }
   ],
   "source": [
    "print(names[model.predict_classes(func(data))[0]])"
   ]
  },
  {
   "cell_type": "code",
   "execution_count": 4,
   "metadata": {},
   "outputs": [],
   "source": [
    "def callback(indata, outdata, frames, time, status):\n",
    "    outdata[:] = indata\n",
    "    print(time.currentTime)\n",
    "\n",
    "block = int(sd.default.samplerate * rec_duration)\n",
    "stream = sd.Stream(blocksize=block, callback=callback)"
   ]
  },
  {
   "cell_type": "code",
   "execution_count": 9,
   "metadata": {},
   "outputs": [],
   "source": [
    "stream.start()"
   ]
  },
  {
   "cell_type": "code",
   "execution_count": 12,
   "metadata": {},
   "outputs": [
    {
     "output_type": "execute_result",
     "data": {
      "text/plain": "False"
     },
     "metadata": {},
     "execution_count": 12
    }
   ],
   "source": [
    "stream.active"
   ]
  },
  {
   "cell_type": "code",
   "execution_count": 10,
   "metadata": {},
   "outputs": [],
   "source": [
    "stream.stop()"
   ]
  },
  {
   "cell_type": "code",
   "execution_count": 15,
   "metadata": {},
   "outputs": [
    {
     "output_type": "execute_result",
     "data": {
      "text/plain": "(0.1, 0.2)"
     },
     "metadata": {},
     "execution_count": 15
    }
   ],
   "source": [
    "stream.latency"
   ]
  },
  {
   "cell_type": "code",
   "execution_count": null,
   "metadata": {},
   "outputs": [],
   "source": []
  }
 ],
 "metadata": {
  "kernelspec": {
   "display_name": "Python 3.7.6 64-bit ('venv': venv)",
   "language": "python",
   "name": "python37664bitvenvvenva53ac5f0e2a34c1a88103dae4a05b9d8"
  },
  "language_info": {
   "codemirror_mode": {
    "name": "ipython",
    "version": 3
   },
   "file_extension": ".py",
   "mimetype": "text/x-python",
   "name": "python",
   "nbconvert_exporter": "python",
   "pygments_lexer": "ipython3",
   "version": "3.7.6-final"
  }
 },
 "nbformat": 4,
 "nbformat_minor": 4
}