{
 "cells": [
  {
   "cell_type": "code",
   "execution_count": 14,
   "metadata": {},
   "outputs": [],
   "source": [
    "import sounddevice as sd\n",
    "import numpy as np\n",
    "import tensorflow as tf\n",
    "import time\n",
    "import os\n",
    "import scipy as sp\n",
    "import scipy.signal"
   ]
  },
  {
   "cell_type": "code",
   "execution_count": 58,
   "metadata": {},
   "outputs": [],
   "source": [
    "names = {\n",
    "    0 : 'None',\n",
    "    1 : 'Джарвис',\n",
    "}\n",
    "\n",
    "\n",
    "sd.default.samplerate = 44100\n",
    "sd.default.channels = 1\n",
    "\n",
    "rec_duration = 0.1\n",
    "start_duration = 0.5\n",
    "\n",
    "model = tf.keras.models.load_model('AudRec_L2_v2.4(12_units).h5')"
   ]
  },
  {
   "cell_type": "code",
   "execution_count": 42,
   "metadata": {},
   "outputs": [],
   "source": [
    "def norm(x):\n",
    "    std = np.std(x ,ddof=1)\n",
    "    return (x - np.mean(x)) / std\n",
    "\n",
    "def func(_x, _sr=44100):\n",
    "    _x = np.reshape(_x, len(_x))\n",
    "    _x = tf.keras.preprocessing.sequence.pad_sequences(\n",
    "        [_x],\n",
    "        maxlen=int(_sr * 0.4),\n",
    "        padding='post',\n",
    "        truncating='post',\n",
    "        dtype='float32'\n",
    "    )[0]\n",
    "    coeff = sp.signal.firwin(999, [260, 700], fs=_sr, pass_zero=False)\n",
    "    x_filtered = sp.signal.lfilter(coeff, 1.0, _x)\n",
    "    x_normalized = x_filtered/x_filtered.max()\n",
    "    x_squared = np.square(x_normalized)\n",
    "    splited = np.array_split(x_squared, 20)\n",
    "    e_parts = np.empty((0))\n",
    "    for part in splited:\n",
    "        e_parts = np.append(e_parts, sp.integrate.simps(part))\n",
    "    return np.reshape(norm(e_parts), (1, 20))"
   ]
  },
  {
   "cell_type": "code",
   "execution_count": 59,
   "metadata": {},
   "outputs": [
    {
     "output_type": "stream",
     "name": "stdout",
     "text": "Model: \"sequential\"\n_________________________________________________________________\nLayer (type)                 Output Shape              Param #   \n=================================================================\ndense (Dense)                (None, 12)                252       \n_________________________________________________________________\ndense_1 (Dense)              (None, 2)                 26        \n=================================================================\nTotal params: 278\nTrainable params: 278\nNon-trainable params: 0\n_________________________________________________________________\n"
    }
   ],
   "source": [
    "model.summary()"
   ]
  },
  {
   "cell_type": "code",
   "execution_count": 55,
   "metadata": {},
   "outputs": [],
   "source": [
    "data = sd.rec(int((start_duration + 0.1) * sd.default.samplerate), blocking=True)"
   ]
  },
  {
   "cell_type": "code",
   "execution_count": 71,
   "metadata": {},
   "outputs": [
    {
     "output_type": "stream",
     "name": "stdout",
     "text": "Джарвис\nДжарвис\nПривет\nИтан\nИтан\nИтан\nИтан\nИтан\nИтан\nДио\nИтан\nДио\nДжарвис\nЛада\nИтан\nИтан\nИтан\nПривет\nЛада\nПривет\nПривет\nИтан\nИтан\nИтан\nИтан\nИтан\nИтан\nИтан\nИтан\nИтан\nИтан\nПривет\nПривет\nПривет\nПривет\nПривет\nПривет\nПривет\nПривет\nПривет\nПривет\nПривет\nПривет\nПривет\nПривет\nИтан\nИтан\nИтан\nИтан\n"
    }
   ],
   "source": [
    "def callback(indata, outdata, frames, time, status):\n",
    "    global data, model\n",
    "    print(names[model.predict_classes(func(data))[0]])\n",
    "    data = data[frames:]\n",
    "    data = np.append(data, indata, axis=0)\n",
    "\n",
    "block = int(sd.default.samplerate * rec_duration)\n",
    "with sd.Stream(blocksize=block, callback=callback):\n",
    "    sd.sleep(int(1000 * 5))"
   ]
  },
  {
   "cell_type": "code",
   "execution_count": 56,
   "metadata": {},
   "outputs": [],
   "source": [
    "sd.play(data)"
   ]
  },
  {
   "cell_type": "code",
   "execution_count": 49,
   "metadata": {},
   "outputs": [
    {
     "output_type": "execute_result",
     "data": {
      "text/plain": "26460"
     },
     "metadata": {},
     "execution_count": 49
    }
   ],
   "source": [
    "len(np.reshape(data, (len(data))))"
   ]
  },
  {
   "cell_type": "code",
   "execution_count": 40,
   "metadata": {},
   "outputs": [
    {
     "output_type": "execute_result",
     "data": {
      "text/plain": "array([[-0.69523823, -0.69523807, -0.69523815, -0.61608311, -0.5755576 ,\n        -0.5807745 , -0.52167953, -0.60671524, -0.54962544, -0.43167077,\n        -0.23957563, -0.33978064, -0.10079884,  1.39306574,  1.92836213,\n         2.78512232,  1.20490591,  0.08039432, -0.2321803 , -0.51169436]])"
     },
     "metadata": {},
     "execution_count": 40
    }
   ],
   "source": [
    "np.reshape(func(data), (1, 20))"
   ]
  },
  {
   "cell_type": "code",
   "execution_count": 57,
   "metadata": {},
   "outputs": [
    {
     "output_type": "execute_result",
     "data": {
      "text/plain": "array([[0.9625995 , 0.03740051]], dtype=float32)"
     },
     "metadata": {},
     "execution_count": 57
    }
   ],
   "source": [
    "model.predict(func(data))"
   ]
  },
  {
   "cell_type": "code",
   "execution_count": 4,
   "metadata": {},
   "outputs": [],
   "source": [
    "def callback(indata, outdata, frames, time, status):\n",
    "    outdata[:] = indata\n",
    "    print(time.currentTime)\n",
    "\n",
    "block = int(sd.default.samplerate * rec_duration)\n",
    "stream = sd.Stream(blocksize=block, callback=callback)"
   ]
  },
  {
   "cell_type": "code",
   "execution_count": 9,
   "metadata": {},
   "outputs": [],
   "source": [
    "stream.start()"
   ]
  },
  {
   "cell_type": "code",
   "execution_count": 12,
   "metadata": {},
   "outputs": [
    {
     "output_type": "execute_result",
     "data": {
      "text/plain": "False"
     },
     "metadata": {},
     "execution_count": 12
    }
   ],
   "source": [
    "stream.active"
   ]
  },
  {
   "cell_type": "code",
   "execution_count": 10,
   "metadata": {},
   "outputs": [],
   "source": [
    "stream.stop()"
   ]
  },
  {
   "cell_type": "code",
   "execution_count": 15,
   "metadata": {},
   "outputs": [
    {
     "output_type": "execute_result",
     "data": {
      "text/plain": "(0.1, 0.2)"
     },
     "metadata": {},
     "execution_count": 15
    }
   ],
   "source": [
    "stream.latency"
   ]
  },
  {
   "cell_type": "code",
   "execution_count": 62,
   "metadata": {},
   "outputs": [
    {
     "output_type": "execute_result",
     "data": {
      "text/plain": "1"
     },
     "metadata": {},
     "execution_count": 62
    }
   ],
   "source": [
    "int(1 < 9)"
   ]
  },
  {
   "cell_type": "code",
   "execution_count": 67,
   "metadata": {},
   "outputs": [
    {
     "output_type": "stream",
     "name": "stdout",
     "text": "[0, 1, 2, 3, 4, 5, 6, 7, 8, 9]\n[5, 6, 7, 8, 9, 0, 1, 2, 3, 4]\n"
    }
   ],
   "source": [
    "a = list(range(10))\n",
    "print(a)\n",
    "a = a[5:]\n",
    "a += list(range(5))\n",
    "print(a)"
   ]
  },
  {
   "cell_type": "code",
   "execution_count": 68,
   "metadata": {},
   "outputs": [
    {
     "output_type": "stream",
     "name": "stdout",
     "text": "1 2\n"
    }
   ],
   "source": [
    "def add(x):\n",
    "    x += 1\n",
    "    return x\n",
    "\n",
    "a = 1\n",
    "b = add(a)\n",
    "print(a, b)"
   ]
  }
 ],
 "metadata": {
  "kernelspec": {
   "display_name": "Python 3.7.6 64-bit ('venv': venv)",
   "language": "python",
   "name": "python37664bitvenvvenva53ac5f0e2a34c1a88103dae4a05b9d8"
  },
  "language_info": {
   "codemirror_mode": {
    "name": "ipython",
    "version": 3
   },
   "file_extension": ".py",
   "mimetype": "text/x-python",
   "name": "python",
   "nbconvert_exporter": "python",
   "pygments_lexer": "ipython3",
   "version": "3.7.6-final"
  }
 },
 "nbformat": 4,
 "nbformat_minor": 4
}